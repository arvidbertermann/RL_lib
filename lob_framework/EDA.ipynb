{
 "cells": [
  {
   "cell_type": "code",
   "execution_count": null,
   "metadata": {
    "collapsed": true
   },
   "outputs": [],
   "source": [
    "from data_providers import KDBDataProvider\n",
    "import datetime as dt\n",
    "\n",
    "kdb_data_path = r'C:\\Users\\arvid\\kdb_bmll_v1.0_snapshot'\n",
    "kdb_port = 9000\n",
    "date = dt.date(2021, 2, 19)\n",
    "end_date = dt.date(2021, 2, 19)\n",
    "date_str = dt.datetime.strftime(date, \"%Y.%m.%d\")\n",
    "end_date_str = dt.datetime.strftime(end_date, \"%Y.%m.%d\")\n",
    "syms = (\"BBG00BFJSR16\",)\n",
    "\n",
    "\n",
    "DP = {}\n",
    "for sym in syms:\n",
    "    dp = KDBDataProvider()\n",
    "    dp.loadData(kdb_data_path, kdb_port, sym, date_str, end_date_str)\n",
    "    DP[sym] = dp"
   ]
  },
  {
   "cell_type": "code",
   "execution_count": null,
   "outputs": [],
   "source": [],
   "metadata": {
    "collapsed": false,
    "pycharm": {
     "name": "#%%\n"
    }
   }
  }
 ],
 "metadata": {
  "kernelspec": {
   "display_name": "Python 3",
   "language": "python",
   "name": "python3"
  },
  "language_info": {
   "codemirror_mode": {
    "name": "ipython",
    "version": 2
   },
   "file_extension": ".py",
   "mimetype": "text/x-python",
   "name": "python",
   "nbconvert_exporter": "python",
   "pygments_lexer": "ipython2",
   "version": "2.7.6"
  }
 },
 "nbformat": 4,
 "nbformat_minor": 0
}