{
 "cells": [
  {
   "cell_type": "code",
   "execution_count": 4,
   "metadata": {
    "collapsed": true
   },
   "outputs": [],
   "source": [
    "from data_providers import KDBDataProvider\n",
    "import datetime as dt\n",
    "\n",
    "kdb_data_path = r'C:\\Users\\arvid\\kdb_bmll_v1.0_snapshot'\n",
    "kdb_port = 9000\n",
    "date = dt.date(2021, 2, 19)\n",
    "end_date = dt.date(2021, 2, 19)\n",
    "date_str = dt.datetime.strftime(date, \"%Y.%m.%d\")\n",
    "end_date_str = dt.datetime.strftime(end_date, \"%Y.%m.%d\")\n",
    "syms = (\"BBG00BFJSR16\",)\n",
    "\n",
    "\n",
    "DP = {}\n",
    "for sym in syms:\n",
    "    dp = KDBDataProvider(kdb_data_path, kdb_port, sym, date_str, end_date_str)\n",
    "    DP[sym] = dp"
   ]
  },
  {
   "cell_type": "code",
   "execution_count": 5,
   "outputs": [
    {
     "data": {
      "text/plain": "        date              sym     exch  qtype                     exch_time  \\\n0 2021-02-19  b'BBG00BFJSR16'  b'XNYM'      0 2021-02-18 22:50:22.011633278   \n1 2021-02-19  b'BBG00BFJSR16'  b'XNYM'      0 2021-02-18 22:50:22.011648260   \n2 2021-02-19  b'BBG00BFJSR16'  b'XNYM'      0 2021-02-18 22:52:01.169020864   \n3 2021-02-19  b'BBG00BFJSR16'  b'XNYM'      0 2021-02-18 22:52:30.296862586   \n4 2021-02-19  b'BBG00BFJSR16'  b'XNYM'      0 2021-02-18 22:55:00.622966460   \n5 2021-02-19  b'BBG00BFJSR16'  b'XNYM'      0 2021-02-18 22:56:18.452270701   \n6 2021-02-19  b'BBG00BFJSR16'  b'XNYM'      0 2021-02-18 22:56:20.178676238   \n7 2021-02-19  b'BBG00BFJSR16'  b'XNYM'      0 2021-02-18 22:59:35.706693779   \n8 2021-02-19  b'BBG00BFJSR16'  b'XNYM'      0 2021-02-18 22:59:59.994764852   \n9 2021-02-19  b'BBG00BFJSR16'  b'XNYM'      1 2021-02-18 23:00:00.223336247   \n\n                     local_time                  receive_time  low_px  \\\n0 2021-02-18 22:50:22.011633278 2021-02-18 22:50:22.011633278     NaN   \n1 2021-02-18 22:50:22.011648260 2021-02-18 22:50:22.011648260     NaN   \n2 2021-02-18 22:52:01.169020864 2021-02-18 22:52:01.169020864     NaN   \n3 2021-02-18 22:52:30.296862586 2021-02-18 22:52:30.296862586     NaN   \n4 2021-02-18 22:55:00.622966460 2021-02-18 22:55:00.622966460     NaN   \n5 2021-02-18 22:56:18.452270701 2021-02-18 22:56:18.452270701     NaN   \n6 2021-02-18 22:56:20.178676238 2021-02-18 22:56:20.178676238     NaN   \n7 2021-02-18 22:59:35.706693779 2021-02-18 22:59:35.706693779     NaN   \n8 2021-02-18 22:59:59.994764852 2021-02-18 22:59:59.994764852     NaN   \n9 2021-02-18 23:00:00.223336247 2021-02-18 23:00:00.223336247   60.18   \n\n   high_px     px  ...  a_qty_gr_5  a_qty_gr_6  a_qty_gr_7  a_qty_gr_8  \\\n0      NaN   0.00  ...       60.30       60.33       60.36       60.44   \n1      NaN   0.00  ...       60.30       60.33       60.36       60.44   \n2      NaN   0.00  ...       60.32       60.35       60.37       60.44   \n3      NaN   0.00  ...       60.31       60.34       60.37       60.43   \n4      NaN   0.00  ...       60.31       60.34       60.37       60.43   \n5      NaN   0.00  ...       60.30       60.34       60.37       60.42   \n6      NaN   0.00  ...       60.30       60.32       60.36       60.41   \n7      NaN   0.00  ...       60.20       60.24       60.26       60.34   \n8      NaN   0.00  ...       60.13       60.13       60.18       60.20   \n9    60.18  60.18  ...       60.13       60.13       60.18       60.20   \n\n   a_qty_gr_9  a_qty_gr_10  a_qty_gr_11  a_qty_gr_12  a_qty_gr_13  a_qty_gr_14  \n0       60.54        60.57        60.57        60.92        61.35        62.50  \n1       60.54        60.57        60.57        60.92        61.35        62.50  \n2       60.55        60.57        60.57        60.92        61.36        62.50  \n3       60.54        60.57        60.57        60.92        61.35        62.50  \n4       60.53        60.57        60.57        60.92        61.32        62.50  \n5       60.53        60.57        60.57        60.92        61.32        62.49  \n6       60.51        60.57        60.57        60.91        61.32        62.39  \n7       60.49        60.57        60.57        60.83        61.28        62.32  \n8       60.25        60.42        60.57        60.66        61.15        61.92  \n9       60.25        60.42        60.57        60.66        61.15        61.92  \n\n[10 rows x 117 columns]",
      "text/html": "<div>\n<style scoped>\n    .dataframe tbody tr th:only-of-type {\n        vertical-align: middle;\n    }\n\n    .dataframe tbody tr th {\n        vertical-align: top;\n    }\n\n    .dataframe thead th {\n        text-align: right;\n    }\n</style>\n<table border=\"1\" class=\"dataframe\">\n  <thead>\n    <tr style=\"text-align: right;\">\n      <th></th>\n      <th>date</th>\n      <th>sym</th>\n      <th>exch</th>\n      <th>qtype</th>\n      <th>exch_time</th>\n      <th>local_time</th>\n      <th>receive_time</th>\n      <th>low_px</th>\n      <th>high_px</th>\n      <th>px</th>\n      <th>...</th>\n      <th>a_qty_gr_5</th>\n      <th>a_qty_gr_6</th>\n      <th>a_qty_gr_7</th>\n      <th>a_qty_gr_8</th>\n      <th>a_qty_gr_9</th>\n      <th>a_qty_gr_10</th>\n      <th>a_qty_gr_11</th>\n      <th>a_qty_gr_12</th>\n      <th>a_qty_gr_13</th>\n      <th>a_qty_gr_14</th>\n    </tr>\n  </thead>\n  <tbody>\n    <tr>\n      <th>0</th>\n      <td>2021-02-19</td>\n      <td>b'BBG00BFJSR16'</td>\n      <td>b'XNYM'</td>\n      <td>0</td>\n      <td>2021-02-18 22:50:22.011633278</td>\n      <td>2021-02-18 22:50:22.011633278</td>\n      <td>2021-02-18 22:50:22.011633278</td>\n      <td>NaN</td>\n      <td>NaN</td>\n      <td>0.00</td>\n      <td>...</td>\n      <td>60.30</td>\n      <td>60.33</td>\n      <td>60.36</td>\n      <td>60.44</td>\n      <td>60.54</td>\n      <td>60.57</td>\n      <td>60.57</td>\n      <td>60.92</td>\n      <td>61.35</td>\n      <td>62.50</td>\n    </tr>\n    <tr>\n      <th>1</th>\n      <td>2021-02-19</td>\n      <td>b'BBG00BFJSR16'</td>\n      <td>b'XNYM'</td>\n      <td>0</td>\n      <td>2021-02-18 22:50:22.011648260</td>\n      <td>2021-02-18 22:50:22.011648260</td>\n      <td>2021-02-18 22:50:22.011648260</td>\n      <td>NaN</td>\n      <td>NaN</td>\n      <td>0.00</td>\n      <td>...</td>\n      <td>60.30</td>\n      <td>60.33</td>\n      <td>60.36</td>\n      <td>60.44</td>\n      <td>60.54</td>\n      <td>60.57</td>\n      <td>60.57</td>\n      <td>60.92</td>\n      <td>61.35</td>\n      <td>62.50</td>\n    </tr>\n    <tr>\n      <th>2</th>\n      <td>2021-02-19</td>\n      <td>b'BBG00BFJSR16'</td>\n      <td>b'XNYM'</td>\n      <td>0</td>\n      <td>2021-02-18 22:52:01.169020864</td>\n      <td>2021-02-18 22:52:01.169020864</td>\n      <td>2021-02-18 22:52:01.169020864</td>\n      <td>NaN</td>\n      <td>NaN</td>\n      <td>0.00</td>\n      <td>...</td>\n      <td>60.32</td>\n      <td>60.35</td>\n      <td>60.37</td>\n      <td>60.44</td>\n      <td>60.55</td>\n      <td>60.57</td>\n      <td>60.57</td>\n      <td>60.92</td>\n      <td>61.36</td>\n      <td>62.50</td>\n    </tr>\n    <tr>\n      <th>3</th>\n      <td>2021-02-19</td>\n      <td>b'BBG00BFJSR16'</td>\n      <td>b'XNYM'</td>\n      <td>0</td>\n      <td>2021-02-18 22:52:30.296862586</td>\n      <td>2021-02-18 22:52:30.296862586</td>\n      <td>2021-02-18 22:52:30.296862586</td>\n      <td>NaN</td>\n      <td>NaN</td>\n      <td>0.00</td>\n      <td>...</td>\n      <td>60.31</td>\n      <td>60.34</td>\n      <td>60.37</td>\n      <td>60.43</td>\n      <td>60.54</td>\n      <td>60.57</td>\n      <td>60.57</td>\n      <td>60.92</td>\n      <td>61.35</td>\n      <td>62.50</td>\n    </tr>\n    <tr>\n      <th>4</th>\n      <td>2021-02-19</td>\n      <td>b'BBG00BFJSR16'</td>\n      <td>b'XNYM'</td>\n      <td>0</td>\n      <td>2021-02-18 22:55:00.622966460</td>\n      <td>2021-02-18 22:55:00.622966460</td>\n      <td>2021-02-18 22:55:00.622966460</td>\n      <td>NaN</td>\n      <td>NaN</td>\n      <td>0.00</td>\n      <td>...</td>\n      <td>60.31</td>\n      <td>60.34</td>\n      <td>60.37</td>\n      <td>60.43</td>\n      <td>60.53</td>\n      <td>60.57</td>\n      <td>60.57</td>\n      <td>60.92</td>\n      <td>61.32</td>\n      <td>62.50</td>\n    </tr>\n    <tr>\n      <th>5</th>\n      <td>2021-02-19</td>\n      <td>b'BBG00BFJSR16'</td>\n      <td>b'XNYM'</td>\n      <td>0</td>\n      <td>2021-02-18 22:56:18.452270701</td>\n      <td>2021-02-18 22:56:18.452270701</td>\n      <td>2021-02-18 22:56:18.452270701</td>\n      <td>NaN</td>\n      <td>NaN</td>\n      <td>0.00</td>\n      <td>...</td>\n      <td>60.30</td>\n      <td>60.34</td>\n      <td>60.37</td>\n      <td>60.42</td>\n      <td>60.53</td>\n      <td>60.57</td>\n      <td>60.57</td>\n      <td>60.92</td>\n      <td>61.32</td>\n      <td>62.49</td>\n    </tr>\n    <tr>\n      <th>6</th>\n      <td>2021-02-19</td>\n      <td>b'BBG00BFJSR16'</td>\n      <td>b'XNYM'</td>\n      <td>0</td>\n      <td>2021-02-18 22:56:20.178676238</td>\n      <td>2021-02-18 22:56:20.178676238</td>\n      <td>2021-02-18 22:56:20.178676238</td>\n      <td>NaN</td>\n      <td>NaN</td>\n      <td>0.00</td>\n      <td>...</td>\n      <td>60.30</td>\n      <td>60.32</td>\n      <td>60.36</td>\n      <td>60.41</td>\n      <td>60.51</td>\n      <td>60.57</td>\n      <td>60.57</td>\n      <td>60.91</td>\n      <td>61.32</td>\n      <td>62.39</td>\n    </tr>\n    <tr>\n      <th>7</th>\n      <td>2021-02-19</td>\n      <td>b'BBG00BFJSR16'</td>\n      <td>b'XNYM'</td>\n      <td>0</td>\n      <td>2021-02-18 22:59:35.706693779</td>\n      <td>2021-02-18 22:59:35.706693779</td>\n      <td>2021-02-18 22:59:35.706693779</td>\n      <td>NaN</td>\n      <td>NaN</td>\n      <td>0.00</td>\n      <td>...</td>\n      <td>60.20</td>\n      <td>60.24</td>\n      <td>60.26</td>\n      <td>60.34</td>\n      <td>60.49</td>\n      <td>60.57</td>\n      <td>60.57</td>\n      <td>60.83</td>\n      <td>61.28</td>\n      <td>62.32</td>\n    </tr>\n    <tr>\n      <th>8</th>\n      <td>2021-02-19</td>\n      <td>b'BBG00BFJSR16'</td>\n      <td>b'XNYM'</td>\n      <td>0</td>\n      <td>2021-02-18 22:59:59.994764852</td>\n      <td>2021-02-18 22:59:59.994764852</td>\n      <td>2021-02-18 22:59:59.994764852</td>\n      <td>NaN</td>\n      <td>NaN</td>\n      <td>0.00</td>\n      <td>...</td>\n      <td>60.13</td>\n      <td>60.13</td>\n      <td>60.18</td>\n      <td>60.20</td>\n      <td>60.25</td>\n      <td>60.42</td>\n      <td>60.57</td>\n      <td>60.66</td>\n      <td>61.15</td>\n      <td>61.92</td>\n    </tr>\n    <tr>\n      <th>9</th>\n      <td>2021-02-19</td>\n      <td>b'BBG00BFJSR16'</td>\n      <td>b'XNYM'</td>\n      <td>1</td>\n      <td>2021-02-18 23:00:00.223336247</td>\n      <td>2021-02-18 23:00:00.223336247</td>\n      <td>2021-02-18 23:00:00.223336247</td>\n      <td>60.18</td>\n      <td>60.18</td>\n      <td>60.18</td>\n      <td>...</td>\n      <td>60.13</td>\n      <td>60.13</td>\n      <td>60.18</td>\n      <td>60.20</td>\n      <td>60.25</td>\n      <td>60.42</td>\n      <td>60.57</td>\n      <td>60.66</td>\n      <td>61.15</td>\n      <td>61.92</td>\n    </tr>\n  </tbody>\n</table>\n<p>10 rows × 117 columns</p>\n</div>"
     },
     "execution_count": 5,
     "metadata": {},
     "output_type": "execute_result"
    }
   ],
   "source": [
    "DP[\"BBG00BFJSR16\"].data.head(10)\n"
   ],
   "metadata": {
    "collapsed": false,
    "pycharm": {
     "name": "#%%\n"
    }
   }
  },
  {
   "cell_type": "code",
   "execution_count": null,
   "outputs": [],
   "source": [],
   "metadata": {
    "collapsed": false,
    "pycharm": {
     "name": "#%%\n"
    }
   }
  }
 ],
 "metadata": {
  "kernelspec": {
   "display_name": "Python 3",
   "language": "python",
   "name": "python3"
  },
  "language_info": {
   "codemirror_mode": {
    "name": "ipython",
    "version": 2
   },
   "file_extension": ".py",
   "mimetype": "text/x-python",
   "name": "python",
   "nbconvert_exporter": "python",
   "pygments_lexer": "ipython2",
   "version": "2.7.6"
  }
 },
 "nbformat": 4,
 "nbformat_minor": 0
}